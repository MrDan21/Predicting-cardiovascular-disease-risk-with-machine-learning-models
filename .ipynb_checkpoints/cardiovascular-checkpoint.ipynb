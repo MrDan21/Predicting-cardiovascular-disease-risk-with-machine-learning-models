{
 "cells": [
  {
   "cell_type": "markdown",
   "id": "d9490eb5-8ad1-42da-a3fd-5c1841446683",
   "metadata": {
    "tags": []
   },
   "source": [
    "###  Predicting cardiovascular disease risk with machine learning models\n",
    "#### Jhair Ante - National University of Colombia\n"
   ]
  },
  {
   "cell_type": "markdown",
   "id": "e71e73ce-94a4-446c-90a7-1c9ad748c194",
   "metadata": {},
   "source": [
    "According to data from the National Institutes of Health, cardiovascular disease is one of the leading causes of death and disability in the United States. \n",
    "\n",
    "In this notebook we use machine learning models to predict cardiovascular disease. Four different models are used to evaluate and determine which one provides the best performance."
   ]
  },
  {
   "cell_type": "markdown",
   "id": "0264dfdb-73f5-497c-943e-7e6c2ccf2050",
   "metadata": {},
   "source": [
    "### Risk Factors"
   ]
  },
  {
   "cell_type": "markdown",
   "id": "c522fbd2-52e8-4be6-93d5-2e32decf7a29",
   "metadata": {},
   "source": [
    "#### Risk factors?\n",
    "\n",
    "Risk factors are characteristics, conditions or behaviors that increase a person's likelihood of developing a disease. Risk factors for CAD include:\n",
    "\n",
    "- Age\n",
    "- Gender\n",
    "- Family history\n",
    "- Tobacco smoking\n",
    "- High cholesterol\n",
    "- High blood pressure\n",
    "- Physical inactivity\n",
    "- Obesity\n",
    "- Diabetes\n"
   ]
  },
  {
   "cell_type": "markdown",
   "id": "97f7594b-25dc-4147-98bc-5f1aa0839b82",
   "metadata": {},
   "source": [
    "### Dataset\n",
    "\n",
    "https://www.kaggle.com/datasets/sulianova/cardiovascular-disease-dataset\n",
    "\n",
    "70,000 data\n"
   ]
  },
  {
   "cell_type": "markdown",
   "id": "a86aaae7-9031-429c-9370-331e4cca8ac0",
   "metadata": {},
   "source": [
    "### Package installation\n"
   ]
  },
  {
   "cell_type": "code",
   "execution_count": 2,
   "id": "60ceb64f-401d-417a-a2f7-6eee47285417",
   "metadata": {
    "tags": []
   },
   "outputs": [
    {
     "name": "stdout",
     "output_type": "stream",
     "text": [
      "Requirement already satisfied: pandas in c:\\users\\ante\\anaconda3\\lib\\site-packages (2.0.3)\n",
      "Requirement already satisfied: python-dateutil>=2.8.2 in c:\\users\\ante\\anaconda3\\lib\\site-packages (from pandas) (2.8.2)\n",
      "Requirement already satisfied: pytz>=2020.1 in c:\\users\\ante\\anaconda3\\lib\\site-packages (from pandas) (2023.3.post1)\n",
      "Requirement already satisfied: tzdata>=2022.1 in c:\\users\\ante\\anaconda3\\lib\\site-packages (from pandas) (2023.3)\n",
      "Requirement already satisfied: numpy>=1.21.0 in c:\\users\\ante\\anaconda3\\lib\\site-packages (from pandas) (1.24.3)\n",
      "Requirement already satisfied: six>=1.5 in c:\\users\\ante\\anaconda3\\lib\\site-packages (from python-dateutil>=2.8.2->pandas) (1.16.0)\n",
      "Requirement already satisfied: scikit-learn in c:\\users\\ante\\anaconda3\\lib\\site-packages (1.3.0)\n",
      "Requirement already satisfied: numpy>=1.17.3 in c:\\users\\ante\\anaconda3\\lib\\site-packages (from scikit-learn) (1.24.3)\n",
      "Requirement already satisfied: scipy>=1.5.0 in c:\\users\\ante\\anaconda3\\lib\\site-packages (from scikit-learn) (1.11.1)\n",
      "Requirement already satisfied: joblib>=1.1.1 in c:\\users\\ante\\anaconda3\\lib\\site-packages (from scikit-learn) (1.2.0)\n",
      "Requirement already satisfied: threadpoolctl>=2.0.0 in c:\\users\\ante\\anaconda3\\lib\\site-packages (from scikit-learn) (2.2.0)\n",
      "Requirement already satisfied: xgboost in c:\\users\\ante\\anaconda3\\lib\\site-packages (2.0.3)\n",
      "Requirement already satisfied: numpy in c:\\users\\ante\\anaconda3\\lib\\site-packages (from xgboost) (1.24.3)\n",
      "Requirement already satisfied: scipy in c:\\users\\ante\\anaconda3\\lib\\site-packages (from xgboost) (1.11.1)\n",
      "Requirement already satisfied: tensorflow==2.14.0 in c:\\users\\ante\\anaconda3\\lib\\site-packages (2.14.0)\n",
      "Requirement already satisfied: tensorflow-intel==2.14.0 in c:\\users\\ante\\anaconda3\\lib\\site-packages (from tensorflow==2.14.0) (2.14.0)\n",
      "Requirement already satisfied: absl-py>=1.0.0 in c:\\users\\ante\\anaconda3\\lib\\site-packages (from tensorflow-intel==2.14.0->tensorflow==2.14.0) (2.1.0)\n",
      "Requirement already satisfied: astunparse>=1.6.0 in c:\\users\\ante\\anaconda3\\lib\\site-packages (from tensorflow-intel==2.14.0->tensorflow==2.14.0) (1.6.3)\n",
      "Requirement already satisfied: flatbuffers>=23.5.26 in c:\\users\\ante\\anaconda3\\lib\\site-packages (from tensorflow-intel==2.14.0->tensorflow==2.14.0) (24.3.25)\n",
      "Requirement already satisfied: gast!=0.5.0,!=0.5.1,!=0.5.2,>=0.2.1 in c:\\users\\ante\\anaconda3\\lib\\site-packages (from tensorflow-intel==2.14.0->tensorflow==2.14.0) (0.5.4)\n",
      "Requirement already satisfied: google-pasta>=0.1.1 in c:\\users\\ante\\anaconda3\\lib\\site-packages (from tensorflow-intel==2.14.0->tensorflow==2.14.0) (0.2.0)\n",
      "Requirement already satisfied: h5py>=2.9.0 in c:\\users\\ante\\anaconda3\\lib\\site-packages (from tensorflow-intel==2.14.0->tensorflow==2.14.0) (3.11.0)\n",
      "Requirement already satisfied: libclang>=13.0.0 in c:\\users\\ante\\anaconda3\\lib\\site-packages (from tensorflow-intel==2.14.0->tensorflow==2.14.0) (18.1.1)\n",
      "Requirement already satisfied: ml-dtypes==0.2.0 in c:\\users\\ante\\anaconda3\\lib\\site-packages (from tensorflow-intel==2.14.0->tensorflow==2.14.0) (0.2.0)\n",
      "Requirement already satisfied: numpy>=1.23.5 in c:\\users\\ante\\anaconda3\\lib\\site-packages (from tensorflow-intel==2.14.0->tensorflow==2.14.0) (1.24.3)\n",
      "Requirement already satisfied: opt-einsum>=2.3.2 in c:\\users\\ante\\anaconda3\\lib\\site-packages (from tensorflow-intel==2.14.0->tensorflow==2.14.0) (3.3.0)\n",
      "Requirement already satisfied: packaging in c:\\users\\ante\\anaconda3\\lib\\site-packages (from tensorflow-intel==2.14.0->tensorflow==2.14.0) (23.1)\n",
      "Requirement already satisfied: protobuf!=4.21.0,!=4.21.1,!=4.21.2,!=4.21.3,!=4.21.4,!=4.21.5,<5.0.0dev,>=3.20.3 in c:\\users\\ante\\anaconda3\\lib\\site-packages (from tensorflow-intel==2.14.0->tensorflow==2.14.0) (4.25.3)\n",
      "Requirement already satisfied: setuptools in c:\\users\\ante\\anaconda3\\lib\\site-packages (from tensorflow-intel==2.14.0->tensorflow==2.14.0) (68.0.0)\n",
      "Requirement already satisfied: six>=1.12.0 in c:\\users\\ante\\anaconda3\\lib\\site-packages (from tensorflow-intel==2.14.0->tensorflow==2.14.0) (1.16.0)\n",
      "Requirement already satisfied: termcolor>=1.1.0 in c:\\users\\ante\\anaconda3\\lib\\site-packages (from tensorflow-intel==2.14.0->tensorflow==2.14.0) (2.4.0)\n",
      "Requirement already satisfied: typing-extensions>=3.6.6 in c:\\users\\ante\\anaconda3\\lib\\site-packages (from tensorflow-intel==2.14.0->tensorflow==2.14.0) (4.7.1)\n",
      "Requirement already satisfied: wrapt<1.15,>=1.11.0 in c:\\users\\ante\\anaconda3\\lib\\site-packages (from tensorflow-intel==2.14.0->tensorflow==2.14.0) (1.14.1)\n",
      "Requirement already satisfied: tensorflow-io-gcs-filesystem>=0.23.1 in c:\\users\\ante\\anaconda3\\lib\\site-packages (from tensorflow-intel==2.14.0->tensorflow==2.14.0) (0.31.0)\n",
      "Requirement already satisfied: grpcio<2.0,>=1.24.3 in c:\\users\\ante\\anaconda3\\lib\\site-packages (from tensorflow-intel==2.14.0->tensorflow==2.14.0) (1.62.1)\n",
      "Requirement already satisfied: tensorboard<2.15,>=2.14 in c:\\users\\ante\\anaconda3\\lib\\site-packages (from tensorflow-intel==2.14.0->tensorflow==2.14.0) (2.14.1)\n",
      "Requirement already satisfied: tensorflow-estimator<2.15,>=2.14.0 in c:\\users\\ante\\anaconda3\\lib\\site-packages (from tensorflow-intel==2.14.0->tensorflow==2.14.0) (2.14.0)\n",
      "Requirement already satisfied: keras<2.15,>=2.14.0 in c:\\users\\ante\\anaconda3\\lib\\site-packages (from tensorflow-intel==2.14.0->tensorflow==2.14.0) (2.14.0)\n",
      "Requirement already satisfied: wheel<1.0,>=0.23.0 in c:\\users\\ante\\anaconda3\\lib\\site-packages (from astunparse>=1.6.0->tensorflow-intel==2.14.0->tensorflow==2.14.0) (0.38.4)\n",
      "Requirement already satisfied: google-auth<3,>=1.6.3 in c:\\users\\ante\\anaconda3\\lib\\site-packages (from tensorboard<2.15,>=2.14->tensorflow-intel==2.14.0->tensorflow==2.14.0) (2.30.0)\n",
      "Requirement already satisfied: google-auth-oauthlib<1.1,>=0.5 in c:\\users\\ante\\anaconda3\\lib\\site-packages (from tensorboard<2.15,>=2.14->tensorflow-intel==2.14.0->tensorflow==2.14.0) (1.0.0)\n",
      "Requirement already satisfied: markdown>=2.6.8 in c:\\users\\ante\\anaconda3\\lib\\site-packages (from tensorboard<2.15,>=2.14->tensorflow-intel==2.14.0->tensorflow==2.14.0) (3.4.1)\n",
      "Requirement already satisfied: requests<3,>=2.21.0 in c:\\users\\ante\\anaconda3\\lib\\site-packages (from tensorboard<2.15,>=2.14->tensorflow-intel==2.14.0->tensorflow==2.14.0) (2.31.0)\n",
      "Requirement already satisfied: tensorboard-data-server<0.8.0,>=0.7.0 in c:\\users\\ante\\anaconda3\\lib\\site-packages (from tensorboard<2.15,>=2.14->tensorflow-intel==2.14.0->tensorflow==2.14.0) (0.7.2)\n",
      "Requirement already satisfied: werkzeug>=1.0.1 in c:\\users\\ante\\anaconda3\\lib\\site-packages (from tensorboard<2.15,>=2.14->tensorflow-intel==2.14.0->tensorflow==2.14.0) (2.2.3)\n",
      "Requirement already satisfied: cachetools<6.0,>=2.0.0 in c:\\users\\ante\\anaconda3\\lib\\site-packages (from google-auth<3,>=1.6.3->tensorboard<2.15,>=2.14->tensorflow-intel==2.14.0->tensorflow==2.14.0) (5.3.3)\n",
      "Requirement already satisfied: pyasn1-modules>=0.2.1 in c:\\users\\ante\\anaconda3\\lib\\site-packages (from google-auth<3,>=1.6.3->tensorboard<2.15,>=2.14->tensorflow-intel==2.14.0->tensorflow==2.14.0) (0.2.8)\n",
      "Requirement already satisfied: rsa<5,>=3.1.4 in c:\\users\\ante\\anaconda3\\lib\\site-packages (from google-auth<3,>=1.6.3->tensorboard<2.15,>=2.14->tensorflow-intel==2.14.0->tensorflow==2.14.0) (4.9)\n",
      "Requirement already satisfied: requests-oauthlib>=0.7.0 in c:\\users\\ante\\anaconda3\\lib\\site-packages (from google-auth-oauthlib<1.1,>=0.5->tensorboard<2.15,>=2.14->tensorflow-intel==2.14.0->tensorflow==2.14.0) (2.0.0)\n",
      "Requirement already satisfied: charset-normalizer<4,>=2 in c:\\users\\ante\\anaconda3\\lib\\site-packages (from requests<3,>=2.21.0->tensorboard<2.15,>=2.14->tensorflow-intel==2.14.0->tensorflow==2.14.0) (2.0.4)\n",
      "Requirement already satisfied: idna<4,>=2.5 in c:\\users\\ante\\anaconda3\\lib\\site-packages (from requests<3,>=2.21.0->tensorboard<2.15,>=2.14->tensorflow-intel==2.14.0->tensorflow==2.14.0) (3.4)\n",
      "Requirement already satisfied: urllib3<3,>=1.21.1 in c:\\users\\ante\\anaconda3\\lib\\site-packages (from requests<3,>=2.21.0->tensorboard<2.15,>=2.14->tensorflow-intel==2.14.0->tensorflow==2.14.0) (1.26.16)\n",
      "Requirement already satisfied: certifi>=2017.4.17 in c:\\users\\ante\\anaconda3\\lib\\site-packages (from requests<3,>=2.21.0->tensorboard<2.15,>=2.14->tensorflow-intel==2.14.0->tensorflow==2.14.0) (2023.7.22)\n",
      "Requirement already satisfied: MarkupSafe>=2.1.1 in c:\\users\\ante\\anaconda3\\lib\\site-packages (from werkzeug>=1.0.1->tensorboard<2.15,>=2.14->tensorflow-intel==2.14.0->tensorflow==2.14.0) (2.1.1)\n",
      "Requirement already satisfied: pyasn1<0.5.0,>=0.4.6 in c:\\users\\ante\\anaconda3\\lib\\site-packages (from pyasn1-modules>=0.2.1->google-auth<3,>=1.6.3->tensorboard<2.15,>=2.14->tensorflow-intel==2.14.0->tensorflow==2.14.0) (0.4.8)\n",
      "Requirement already satisfied: oauthlib>=3.0.0 in c:\\users\\ante\\anaconda3\\lib\\site-packages (from requests-oauthlib>=0.7.0->google-auth-oauthlib<1.1,>=0.5->tensorboard<2.15,>=2.14->tensorflow-intel==2.14.0->tensorflow==2.14.0) (3.2.2)\n"
     ]
    }
   ],
   "source": [
    "!pip install pandas\n",
    "!pip install scikit-learn\n",
    "!pip install xgboost\n",
    "!pip install tensorflow==2.14.0"
   ]
  },
  {
   "cell_type": "markdown",
   "id": "6c5858d6-3a7f-40af-832b-5ea030d92896",
   "metadata": {},
   "source": [
    "### Imports\n"
   ]
  },
  {
   "cell_type": "code",
   "execution_count": 1,
   "id": "35ac0846-e78b-4ff8-8e41-94b72925e9d9",
   "metadata": {
    "tags": []
   },
   "outputs": [],
   "source": [
    "import pandas as pd\n",
    "from sklearn.preprocessing import StandardScaler\n",
    "from sklearn.model_selection import train_test_split\n",
    "from xgboost import XGBClassifier\n",
    "from sklearn.metrics import classification_report\n",
    "import tensorflow as tf\n",
    "from sklearn.linear_model import LogisticRegression\n",
    "from sklearn import svm"
   ]
  },
  {
   "cell_type": "markdown",
   "id": "fda5a2f4-dd58-4a1a-80f1-e05bbf876d8a",
   "metadata": {},
   "source": [
    "### Read dataset"
   ]
  },
  {
   "cell_type": "code",
   "execution_count": 2,
   "id": "3923460a-1b16-4809-835a-dd674289bc63",
   "metadata": {
    "tags": []
   },
   "outputs": [],
   "source": [
    "cardio_df = pd.read_csv('./dataset/cardio_train.csv', sep=';')"
   ]
  },
  {
   "cell_type": "code",
   "execution_count": 3,
   "id": "3055bd7d-99ae-4011-b58e-f7008ab301e9",
   "metadata": {
    "tags": []
   },
   "outputs": [
    {
     "name": "stdout",
     "output_type": "stream",
     "text": [
      "<class 'pandas.core.frame.DataFrame'>\n",
      "RangeIndex: 70000 entries, 0 to 69999\n",
      "Data columns (total 13 columns):\n",
      " #   Column       Non-Null Count  Dtype  \n",
      "---  ------       --------------  -----  \n",
      " 0   id           70000 non-null  int64  \n",
      " 1   age          70000 non-null  int64  \n",
      " 2   gender       70000 non-null  int64  \n",
      " 3   height       70000 non-null  int64  \n",
      " 4   weight       70000 non-null  float64\n",
      " 5   ap_hi        70000 non-null  int64  \n",
      " 6   ap_lo        70000 non-null  int64  \n",
      " 7   cholesterol  70000 non-null  int64  \n",
      " 8   gluc         70000 non-null  int64  \n",
      " 9   smoke        70000 non-null  int64  \n",
      " 10  alco         70000 non-null  int64  \n",
      " 11  active       70000 non-null  int64  \n",
      " 12  cardio       70000 non-null  int64  \n",
      "dtypes: float64(1), int64(12)\n",
      "memory usage: 6.9 MB\n"
     ]
    }
   ],
   "source": [
    "cardio_df.info()"
   ]
  },
  {
   "cell_type": "code",
   "execution_count": 4,
   "id": "8a544e36-fd31-40da-82af-81a7c9044220",
   "metadata": {
    "tags": []
   },
   "outputs": [
    {
     "name": "stdout",
     "output_type": "stream",
     "text": [
      "                 id           age        gender        height        weight  \\\n",
      "count  70000.000000  70000.000000  70000.000000  70000.000000  70000.000000   \n",
      "mean   49972.419900  19468.865814      1.349571    164.359229     74.205690   \n",
      "std    28851.302323   2467.251667      0.476838      8.210126     14.395757   \n",
      "min        0.000000  10798.000000      1.000000     55.000000     10.000000   \n",
      "25%    25006.750000  17664.000000      1.000000    159.000000     65.000000   \n",
      "50%    50001.500000  19703.000000      1.000000    165.000000     72.000000   \n",
      "75%    74889.250000  21327.000000      2.000000    170.000000     82.000000   \n",
      "max    99999.000000  23713.000000      2.000000    250.000000    200.000000   \n",
      "\n",
      "              ap_hi         ap_lo   cholesterol          gluc         smoke  \\\n",
      "count  70000.000000  70000.000000  70000.000000  70000.000000  70000.000000   \n",
      "mean     128.817286     96.630414      1.366871      1.226457      0.088129   \n",
      "std      154.011419    188.472530      0.680250      0.572270      0.283484   \n",
      "min     -150.000000    -70.000000      1.000000      1.000000      0.000000   \n",
      "25%      120.000000     80.000000      1.000000      1.000000      0.000000   \n",
      "50%      120.000000     80.000000      1.000000      1.000000      0.000000   \n",
      "75%      140.000000     90.000000      2.000000      1.000000      0.000000   \n",
      "max    16020.000000  11000.000000      3.000000      3.000000      1.000000   \n",
      "\n",
      "               alco        active        cardio  \n",
      "count  70000.000000  70000.000000  70000.000000  \n",
      "mean       0.053771      0.803729      0.499700  \n",
      "std        0.225568      0.397179      0.500003  \n",
      "min        0.000000      0.000000      0.000000  \n",
      "25%        0.000000      1.000000      0.000000  \n",
      "50%        0.000000      1.000000      0.000000  \n",
      "75%        0.000000      1.000000      1.000000  \n",
      "max        1.000000      1.000000      1.000000  \n"
     ]
    }
   ],
   "source": [
    "print(cardio_df.describe())"
   ]
  },
  {
   "cell_type": "code",
   "execution_count": 5,
   "id": "a852f40c-b02b-49c1-b72c-6ff9f434c92b",
   "metadata": {
    "tags": []
   },
   "outputs": [
    {
     "data": {
      "text/plain": [
       "cardio\n",
       "0    35021\n",
       "1    34979\n",
       "Name: count, dtype: int64"
      ]
     },
     "execution_count": 5,
     "metadata": {},
     "output_type": "execute_result"
    }
   ],
   "source": [
    "cardio_df['cardio'].value_counts()"
   ]
  },
  {
   "cell_type": "code",
   "execution_count": 6,
   "id": "773a6713-e9ee-4690-ab0e-96dd5fff812c",
   "metadata": {
    "tags": []
   },
   "outputs": [
    {
     "data": {
      "text/html": [
       "<div>\n",
       "<style scoped>\n",
       "    .dataframe tbody tr th:only-of-type {\n",
       "        vertical-align: middle;\n",
       "    }\n",
       "\n",
       "    .dataframe tbody tr th {\n",
       "        vertical-align: top;\n",
       "    }\n",
       "\n",
       "    .dataframe thead th {\n",
       "        text-align: right;\n",
       "    }\n",
       "</style>\n",
       "<table border=\"1\" class=\"dataframe\">\n",
       "  <thead>\n",
       "    <tr style=\"text-align: right;\">\n",
       "      <th></th>\n",
       "      <th>id</th>\n",
       "      <th>age</th>\n",
       "      <th>gender</th>\n",
       "      <th>height</th>\n",
       "      <th>weight</th>\n",
       "      <th>ap_hi</th>\n",
       "      <th>ap_lo</th>\n",
       "      <th>cholesterol</th>\n",
       "      <th>gluc</th>\n",
       "      <th>smoke</th>\n",
       "      <th>alco</th>\n",
       "      <th>active</th>\n",
       "      <th>cardio</th>\n",
       "    </tr>\n",
       "  </thead>\n",
       "  <tbody>\n",
       "    <tr>\n",
       "      <th>0</th>\n",
       "      <td>0</td>\n",
       "      <td>18393</td>\n",
       "      <td>2</td>\n",
       "      <td>168</td>\n",
       "      <td>62.0</td>\n",
       "      <td>110</td>\n",
       "      <td>80</td>\n",
       "      <td>1</td>\n",
       "      <td>1</td>\n",
       "      <td>0</td>\n",
       "      <td>0</td>\n",
       "      <td>1</td>\n",
       "      <td>0</td>\n",
       "    </tr>\n",
       "    <tr>\n",
       "      <th>1</th>\n",
       "      <td>1</td>\n",
       "      <td>20228</td>\n",
       "      <td>1</td>\n",
       "      <td>156</td>\n",
       "      <td>85.0</td>\n",
       "      <td>140</td>\n",
       "      <td>90</td>\n",
       "      <td>3</td>\n",
       "      <td>1</td>\n",
       "      <td>0</td>\n",
       "      <td>0</td>\n",
       "      <td>1</td>\n",
       "      <td>1</td>\n",
       "    </tr>\n",
       "    <tr>\n",
       "      <th>2</th>\n",
       "      <td>2</td>\n",
       "      <td>18857</td>\n",
       "      <td>1</td>\n",
       "      <td>165</td>\n",
       "      <td>64.0</td>\n",
       "      <td>130</td>\n",
       "      <td>70</td>\n",
       "      <td>3</td>\n",
       "      <td>1</td>\n",
       "      <td>0</td>\n",
       "      <td>0</td>\n",
       "      <td>0</td>\n",
       "      <td>1</td>\n",
       "    </tr>\n",
       "    <tr>\n",
       "      <th>3</th>\n",
       "      <td>3</td>\n",
       "      <td>17623</td>\n",
       "      <td>2</td>\n",
       "      <td>169</td>\n",
       "      <td>82.0</td>\n",
       "      <td>150</td>\n",
       "      <td>100</td>\n",
       "      <td>1</td>\n",
       "      <td>1</td>\n",
       "      <td>0</td>\n",
       "      <td>0</td>\n",
       "      <td>1</td>\n",
       "      <td>1</td>\n",
       "    </tr>\n",
       "    <tr>\n",
       "      <th>4</th>\n",
       "      <td>4</td>\n",
       "      <td>17474</td>\n",
       "      <td>1</td>\n",
       "      <td>156</td>\n",
       "      <td>56.0</td>\n",
       "      <td>100</td>\n",
       "      <td>60</td>\n",
       "      <td>1</td>\n",
       "      <td>1</td>\n",
       "      <td>0</td>\n",
       "      <td>0</td>\n",
       "      <td>0</td>\n",
       "      <td>0</td>\n",
       "    </tr>\n",
       "    <tr>\n",
       "      <th>5</th>\n",
       "      <td>8</td>\n",
       "      <td>21914</td>\n",
       "      <td>1</td>\n",
       "      <td>151</td>\n",
       "      <td>67.0</td>\n",
       "      <td>120</td>\n",
       "      <td>80</td>\n",
       "      <td>2</td>\n",
       "      <td>2</td>\n",
       "      <td>0</td>\n",
       "      <td>0</td>\n",
       "      <td>0</td>\n",
       "      <td>0</td>\n",
       "    </tr>\n",
       "    <tr>\n",
       "      <th>6</th>\n",
       "      <td>9</td>\n",
       "      <td>22113</td>\n",
       "      <td>1</td>\n",
       "      <td>157</td>\n",
       "      <td>93.0</td>\n",
       "      <td>130</td>\n",
       "      <td>80</td>\n",
       "      <td>3</td>\n",
       "      <td>1</td>\n",
       "      <td>0</td>\n",
       "      <td>0</td>\n",
       "      <td>1</td>\n",
       "      <td>0</td>\n",
       "    </tr>\n",
       "    <tr>\n",
       "      <th>7</th>\n",
       "      <td>12</td>\n",
       "      <td>22584</td>\n",
       "      <td>2</td>\n",
       "      <td>178</td>\n",
       "      <td>95.0</td>\n",
       "      <td>130</td>\n",
       "      <td>90</td>\n",
       "      <td>3</td>\n",
       "      <td>3</td>\n",
       "      <td>0</td>\n",
       "      <td>0</td>\n",
       "      <td>1</td>\n",
       "      <td>1</td>\n",
       "    </tr>\n",
       "    <tr>\n",
       "      <th>8</th>\n",
       "      <td>13</td>\n",
       "      <td>17668</td>\n",
       "      <td>1</td>\n",
       "      <td>158</td>\n",
       "      <td>71.0</td>\n",
       "      <td>110</td>\n",
       "      <td>70</td>\n",
       "      <td>1</td>\n",
       "      <td>1</td>\n",
       "      <td>0</td>\n",
       "      <td>0</td>\n",
       "      <td>1</td>\n",
       "      <td>0</td>\n",
       "    </tr>\n",
       "    <tr>\n",
       "      <th>9</th>\n",
       "      <td>14</td>\n",
       "      <td>19834</td>\n",
       "      <td>1</td>\n",
       "      <td>164</td>\n",
       "      <td>68.0</td>\n",
       "      <td>110</td>\n",
       "      <td>60</td>\n",
       "      <td>1</td>\n",
       "      <td>1</td>\n",
       "      <td>0</td>\n",
       "      <td>0</td>\n",
       "      <td>0</td>\n",
       "      <td>0</td>\n",
       "    </tr>\n",
       "  </tbody>\n",
       "</table>\n",
       "</div>"
      ],
      "text/plain": [
       "   id    age  gender  height  weight  ap_hi  ap_lo  cholesterol  gluc  smoke  \\\n",
       "0   0  18393       2     168    62.0    110     80            1     1      0   \n",
       "1   1  20228       1     156    85.0    140     90            3     1      0   \n",
       "2   2  18857       1     165    64.0    130     70            3     1      0   \n",
       "3   3  17623       2     169    82.0    150    100            1     1      0   \n",
       "4   4  17474       1     156    56.0    100     60            1     1      0   \n",
       "5   8  21914       1     151    67.0    120     80            2     2      0   \n",
       "6   9  22113       1     157    93.0    130     80            3     1      0   \n",
       "7  12  22584       2     178    95.0    130     90            3     3      0   \n",
       "8  13  17668       1     158    71.0    110     70            1     1      0   \n",
       "9  14  19834       1     164    68.0    110     60            1     1      0   \n",
       "\n",
       "   alco  active  cardio  \n",
       "0     0       1       0  \n",
       "1     0       1       1  \n",
       "2     0       0       1  \n",
       "3     0       1       1  \n",
       "4     0       0       0  \n",
       "5     0       0       0  \n",
       "6     0       1       0  \n",
       "7     0       1       1  \n",
       "8     0       1       0  \n",
       "9     0       0       0  "
      ]
     },
     "execution_count": 6,
     "metadata": {},
     "output_type": "execute_result"
    }
   ],
   "source": [
    "cardio_df.head(10)"
   ]
  },
  {
   "cell_type": "markdown",
   "id": "9ed2a536-07ed-467c-98d0-6046dffaf167",
   "metadata": {},
   "source": [
    "### Data preprocessing"
   ]
  },
  {
   "cell_type": "markdown",
   "id": "65a55460-604e-482c-8f9f-9d3218d7690e",
   "metadata": {},
   "source": [
    "The age specified in days, we convert it to years"
   ]
  },
  {
   "cell_type": "code",
   "execution_count": 7,
   "id": "bccf49bb-1067-48e8-acde-d1fd3e051afa",
   "metadata": {
    "tags": []
   },
   "outputs": [],
   "source": [
    "cardio_df['age'] = (cardio_df['age'] / 365).round().astype(int)\n",
    "cardio_df['weight'] = cardio_df['weight'].astype(int)\n",
    "cardio_df = cardio_df.drop(columns = 'id')"
   ]
  },
  {
   "cell_type": "code",
   "execution_count": 8,
   "id": "6069b548-7e09-4974-9ecf-e547074ef4e3",
   "metadata": {
    "tags": []
   },
   "outputs": [
    {
     "data": {
      "text/html": [
       "<div>\n",
       "<style scoped>\n",
       "    .dataframe tbody tr th:only-of-type {\n",
       "        vertical-align: middle;\n",
       "    }\n",
       "\n",
       "    .dataframe tbody tr th {\n",
       "        vertical-align: top;\n",
       "    }\n",
       "\n",
       "    .dataframe thead th {\n",
       "        text-align: right;\n",
       "    }\n",
       "</style>\n",
       "<table border=\"1\" class=\"dataframe\">\n",
       "  <thead>\n",
       "    <tr style=\"text-align: right;\">\n",
       "      <th></th>\n",
       "      <th>age</th>\n",
       "      <th>gender</th>\n",
       "      <th>height</th>\n",
       "      <th>weight</th>\n",
       "      <th>ap_hi</th>\n",
       "      <th>ap_lo</th>\n",
       "      <th>cholesterol</th>\n",
       "      <th>gluc</th>\n",
       "      <th>smoke</th>\n",
       "      <th>alco</th>\n",
       "      <th>active</th>\n",
       "      <th>cardio</th>\n",
       "    </tr>\n",
       "  </thead>\n",
       "  <tbody>\n",
       "    <tr>\n",
       "      <th>0</th>\n",
       "      <td>50</td>\n",
       "      <td>2</td>\n",
       "      <td>168</td>\n",
       "      <td>62</td>\n",
       "      <td>110</td>\n",
       "      <td>80</td>\n",
       "      <td>1</td>\n",
       "      <td>1</td>\n",
       "      <td>0</td>\n",
       "      <td>0</td>\n",
       "      <td>1</td>\n",
       "      <td>0</td>\n",
       "    </tr>\n",
       "    <tr>\n",
       "      <th>1</th>\n",
       "      <td>55</td>\n",
       "      <td>1</td>\n",
       "      <td>156</td>\n",
       "      <td>85</td>\n",
       "      <td>140</td>\n",
       "      <td>90</td>\n",
       "      <td>3</td>\n",
       "      <td>1</td>\n",
       "      <td>0</td>\n",
       "      <td>0</td>\n",
       "      <td>1</td>\n",
       "      <td>1</td>\n",
       "    </tr>\n",
       "    <tr>\n",
       "      <th>2</th>\n",
       "      <td>52</td>\n",
       "      <td>1</td>\n",
       "      <td>165</td>\n",
       "      <td>64</td>\n",
       "      <td>130</td>\n",
       "      <td>70</td>\n",
       "      <td>3</td>\n",
       "      <td>1</td>\n",
       "      <td>0</td>\n",
       "      <td>0</td>\n",
       "      <td>0</td>\n",
       "      <td>1</td>\n",
       "    </tr>\n",
       "    <tr>\n",
       "      <th>3</th>\n",
       "      <td>48</td>\n",
       "      <td>2</td>\n",
       "      <td>169</td>\n",
       "      <td>82</td>\n",
       "      <td>150</td>\n",
       "      <td>100</td>\n",
       "      <td>1</td>\n",
       "      <td>1</td>\n",
       "      <td>0</td>\n",
       "      <td>0</td>\n",
       "      <td>1</td>\n",
       "      <td>1</td>\n",
       "    </tr>\n",
       "    <tr>\n",
       "      <th>4</th>\n",
       "      <td>48</td>\n",
       "      <td>1</td>\n",
       "      <td>156</td>\n",
       "      <td>56</td>\n",
       "      <td>100</td>\n",
       "      <td>60</td>\n",
       "      <td>1</td>\n",
       "      <td>1</td>\n",
       "      <td>0</td>\n",
       "      <td>0</td>\n",
       "      <td>0</td>\n",
       "      <td>0</td>\n",
       "    </tr>\n",
       "    <tr>\n",
       "      <th>5</th>\n",
       "      <td>60</td>\n",
       "      <td>1</td>\n",
       "      <td>151</td>\n",
       "      <td>67</td>\n",
       "      <td>120</td>\n",
       "      <td>80</td>\n",
       "      <td>2</td>\n",
       "      <td>2</td>\n",
       "      <td>0</td>\n",
       "      <td>0</td>\n",
       "      <td>0</td>\n",
       "      <td>0</td>\n",
       "    </tr>\n",
       "    <tr>\n",
       "      <th>6</th>\n",
       "      <td>61</td>\n",
       "      <td>1</td>\n",
       "      <td>157</td>\n",
       "      <td>93</td>\n",
       "      <td>130</td>\n",
       "      <td>80</td>\n",
       "      <td>3</td>\n",
       "      <td>1</td>\n",
       "      <td>0</td>\n",
       "      <td>0</td>\n",
       "      <td>1</td>\n",
       "      <td>0</td>\n",
       "    </tr>\n",
       "    <tr>\n",
       "      <th>7</th>\n",
       "      <td>62</td>\n",
       "      <td>2</td>\n",
       "      <td>178</td>\n",
       "      <td>95</td>\n",
       "      <td>130</td>\n",
       "      <td>90</td>\n",
       "      <td>3</td>\n",
       "      <td>3</td>\n",
       "      <td>0</td>\n",
       "      <td>0</td>\n",
       "      <td>1</td>\n",
       "      <td>1</td>\n",
       "    </tr>\n",
       "    <tr>\n",
       "      <th>8</th>\n",
       "      <td>48</td>\n",
       "      <td>1</td>\n",
       "      <td>158</td>\n",
       "      <td>71</td>\n",
       "      <td>110</td>\n",
       "      <td>70</td>\n",
       "      <td>1</td>\n",
       "      <td>1</td>\n",
       "      <td>0</td>\n",
       "      <td>0</td>\n",
       "      <td>1</td>\n",
       "      <td>0</td>\n",
       "    </tr>\n",
       "    <tr>\n",
       "      <th>9</th>\n",
       "      <td>54</td>\n",
       "      <td>1</td>\n",
       "      <td>164</td>\n",
       "      <td>68</td>\n",
       "      <td>110</td>\n",
       "      <td>60</td>\n",
       "      <td>1</td>\n",
       "      <td>1</td>\n",
       "      <td>0</td>\n",
       "      <td>0</td>\n",
       "      <td>0</td>\n",
       "      <td>0</td>\n",
       "    </tr>\n",
       "  </tbody>\n",
       "</table>\n",
       "</div>"
      ],
      "text/plain": [
       "   age  gender  height  weight  ap_hi  ap_lo  cholesterol  gluc  smoke  alco  \\\n",
       "0   50       2     168      62    110     80            1     1      0     0   \n",
       "1   55       1     156      85    140     90            3     1      0     0   \n",
       "2   52       1     165      64    130     70            3     1      0     0   \n",
       "3   48       2     169      82    150    100            1     1      0     0   \n",
       "4   48       1     156      56    100     60            1     1      0     0   \n",
       "5   60       1     151      67    120     80            2     2      0     0   \n",
       "6   61       1     157      93    130     80            3     1      0     0   \n",
       "7   62       2     178      95    130     90            3     3      0     0   \n",
       "8   48       1     158      71    110     70            1     1      0     0   \n",
       "9   54       1     164      68    110     60            1     1      0     0   \n",
       "\n",
       "   active  cardio  \n",
       "0       1       0  \n",
       "1       1       1  \n",
       "2       0       1  \n",
       "3       1       1  \n",
       "4       0       0  \n",
       "5       0       0  \n",
       "6       1       0  \n",
       "7       1       1  \n",
       "8       1       0  \n",
       "9       0       0  "
      ]
     },
     "execution_count": 8,
     "metadata": {},
     "output_type": "execute_result"
    }
   ],
   "source": [
    "cardio_df.head(10)"
   ]
  },
  {
   "cell_type": "markdown",
   "id": "0be871e4-8293-4c7a-be94-6287340eb34c",
   "metadata": {},
   "source": [
    "### Assignment of inputs and outputs"
   ]
  },
  {
   "cell_type": "code",
   "execution_count": 9,
   "id": "d4f917d7-5883-43ec-8b55-5f3afb6456a7",
   "metadata": {},
   "outputs": [],
   "source": [
    "X = cardio_df.drop(columns = 'cardio', axis = 1)\n",
    "y = cardio_df['cardio']"
   ]
  },
  {
   "cell_type": "code",
   "execution_count": 10,
   "id": "e37d9b11-c76b-4cd9-92c4-aa5549b5a0da",
   "metadata": {},
   "outputs": [
    {
     "data": {
      "text/plain": [
       "((70000, 11), (70000,))"
      ]
     },
     "execution_count": 10,
     "metadata": {},
     "output_type": "execute_result"
    }
   ],
   "source": [
    "X.shape, y.shape"
   ]
  },
  {
   "cell_type": "markdown",
   "id": "9119aa62-6370-4d56-bd06-ba106a705371",
   "metadata": {},
   "source": [
    "### Standardization of characteristics"
   ]
  },
  {
   "cell_type": "code",
   "execution_count": 11,
   "id": "a379d1f2-192c-40ca-a421-d6d1784d50a4",
   "metadata": {
    "tags": []
   },
   "outputs": [],
   "source": [
    "scaler = StandardScaler()\n",
    "X = scaler.fit_transform(X)"
   ]
  },
  {
   "cell_type": "code",
   "execution_count": 12,
   "id": "d821bfe8-a8dd-44c9-8fe1-77d5c7ed2837",
   "metadata": {},
   "outputs": [
    {
     "data": {
      "text/plain": [
       "array([[-0.49350546,  1.36405487,  0.44345206, ..., -0.31087913,\n",
       "        -0.23838436,  0.49416711],\n",
       "       [ 0.24556599, -0.73310834, -1.01816804, ..., -0.31087913,\n",
       "        -0.23838436,  0.49416711],\n",
       "       [-0.19787688, -0.73310834,  0.07804703, ..., -0.31087913,\n",
       "        -0.23838436, -2.02360695],\n",
       "       ...,\n",
       "       [-0.19787688,  1.36405487,  2.27047718, ..., -0.31087913,\n",
       "         4.19490608, -2.02360695],\n",
       "       [ 1.13245175, -0.73310834, -0.16555632, ..., -0.31087913,\n",
       "        -0.23838436, -2.02360695],\n",
       "       [ 0.39338029, -0.73310834,  0.68705541, ..., -0.31087913,\n",
       "        -0.23838436,  0.49416711]])"
      ]
     },
     "execution_count": 12,
     "metadata": {},
     "output_type": "execute_result"
    }
   ],
   "source": [
    "X"
   ]
  },
  {
   "cell_type": "markdown",
   "id": "b7689296-9f74-43c0-8844-da850a0840e4",
   "metadata": {},
   "source": [
    "### Dividing the dataset into training and test data\n",
    "#### 20% of data for test and 80% for training\n"
   ]
  },
  {
   "cell_type": "code",
   "execution_count": 13,
   "id": "d491fa39-c206-4840-87d7-2cd984305317",
   "metadata": {
    "tags": []
   },
   "outputs": [],
   "source": [
    "X_train, X_test, y_train, y_test = train_test_split(X, y, test_size=0.2)"
   ]
  },
  {
   "cell_type": "markdown",
   "id": "a425a2ed-fbbd-4fb5-b255-3a58ef5af88b",
   "metadata": {},
   "source": [
    "### Creation of an ANN\n",
    "ANNs (Artificial Neural Networks) are a computational model inspired by the functioning of the human brain. They are composed of units called artificial neurons that are organized in layers and connected to each other by weights. Each neuron applies an activation function to the linear combination of its inputs, which allows the network to learn and represent complex patterns in the data.\n",
    "\n",
    "In the context of binary classification, ANNs can be very effective. "
   ]
  },
  {
   "cell_type": "markdown",
   "id": "a01bb8d9-f590-4ee2-bea3-0f8868170de2",
   "metadata": {
    "tags": []
   },
   "source": [
    "#### Artificial Neural Network Architecture\n",
    "- Sequential model\n",
    "- Dense Layer 1: 400 neurons, ReLU activation function, Input dimensions 11\n",
    "- Dropout layer: 0.2\n",
    "- Dense layer 2: 400 neurons, Activation function ReLU\n",
    "- Dense Layer 3: 400 neurons, ReLU trigger function\n",
    "- Output layer: 1 neuron, Sigmoid activation function"
   ]
  },
  {
   "cell_type": "code",
   "execution_count": 16,
   "id": "592fa223-1f90-493e-ac71-79b777d49a1d",
   "metadata": {
    "tags": []
   },
   "outputs": [],
   "source": [
    "classifier = tf.keras.models.Sequential()\n",
    "classifier.add( tf.keras.layers.Dense(units=400, activation='relu', input_shape=(11, )))\n",
    "classifier.add( tf.keras.layers.Dropout(0.2))\n",
    "\n",
    "classifier.add(tf.keras.layers.Dense(units=400, activation='relu'))\n",
    "classifier.add(tf.keras.layers.Dense(units=400, activation='relu'))\n",
    "\n",
    "classifier.add(tf.keras.layers.Dense(units=1, activation='sigmoid'))"
   ]
  },
  {
   "cell_type": "code",
   "execution_count": 17,
   "id": "2e59e4a3-79c0-4624-b924-db3085a963fe",
   "metadata": {
    "tags": []
   },
   "outputs": [],
   "source": [
    "classifier.compile(optimizer='Adam', loss='binary_crossentropy', metrics = ['accuracy'])"
   ]
  },
  {
   "cell_type": "markdown",
   "id": "e9222b11-d345-4f99-bbb9-55cddcf5a690",
   "metadata": {},
   "source": [
    "### RNA training"
   ]
  },
  {
   "cell_type": "code",
   "execution_count": 18,
   "id": "b7d388f3-fefd-4470-ad01-0a99dde8b906",
   "metadata": {},
   "outputs": [
    {
     "name": "stdout",
     "output_type": "stream",
     "text": [
      "Epoch 1/50\n",
      "1750/1750 [==============================] - 15s 8ms/step - loss: 0.5828 - accuracy: 0.7097\n",
      "Epoch 2/50\n",
      "1750/1750 [==============================] - 13s 8ms/step - loss: 0.5531 - accuracy: 0.7280\n",
      "Epoch 3/50\n",
      "1750/1750 [==============================] - 13s 8ms/step - loss: 0.5502 - accuracy: 0.7322\n",
      "Epoch 4/50\n",
      "1750/1750 [==============================] - 13s 8ms/step - loss: 0.5471 - accuracy: 0.7309\n",
      "Epoch 5/50\n",
      "1750/1750 [==============================] - 13s 8ms/step - loss: 0.5475 - accuracy: 0.7322\n",
      "Epoch 6/50\n",
      "1750/1750 [==============================] - 13s 8ms/step - loss: 0.5443 - accuracy: 0.7332\n",
      "Epoch 7/50\n",
      "1750/1750 [==============================] - 13s 7ms/step - loss: 0.5439 - accuracy: 0.7339\n",
      "Epoch 8/50\n",
      "1750/1750 [==============================] - 14s 8ms/step - loss: 0.5431 - accuracy: 0.7356\n",
      "Epoch 9/50\n",
      "1750/1750 [==============================] - 13s 8ms/step - loss: 0.5432 - accuracy: 0.7339\n",
      "Epoch 10/50\n",
      "1750/1750 [==============================] - 13s 8ms/step - loss: 0.5428 - accuracy: 0.7343\n",
      "Epoch 11/50\n",
      "1750/1750 [==============================] - 13s 8ms/step - loss: 0.5414 - accuracy: 0.7346\n",
      "Epoch 12/50\n",
      "1750/1750 [==============================] - 13s 8ms/step - loss: 0.5414 - accuracy: 0.7349\n",
      "Epoch 13/50\n",
      "1750/1750 [==============================] - 14s 8ms/step - loss: 0.5410 - accuracy: 0.7349\n",
      "Epoch 14/50\n",
      "1750/1750 [==============================] - 17s 10ms/step - loss: 0.5418 - accuracy: 0.7350\n",
      "Epoch 15/50\n",
      "1750/1750 [==============================] - 19s 11ms/step - loss: 0.5400 - accuracy: 0.7370\n",
      "Epoch 16/50\n",
      "1750/1750 [==============================] - 16s 9ms/step - loss: 0.5398 - accuracy: 0.7363\n",
      "Epoch 17/50\n",
      "1750/1750 [==============================] - 15s 9ms/step - loss: 0.5390 - accuracy: 0.7366\n",
      "Epoch 18/50\n",
      "1750/1750 [==============================] - 15s 9ms/step - loss: 0.5384 - accuracy: 0.7357\n",
      "Epoch 19/50\n",
      "1750/1750 [==============================] - 15s 9ms/step - loss: 0.5385 - accuracy: 0.7376\n",
      "Epoch 20/50\n",
      "1750/1750 [==============================] - 15s 8ms/step - loss: 0.5372 - accuracy: 0.7378\n",
      "Epoch 21/50\n",
      "1750/1750 [==============================] - 15s 9ms/step - loss: 0.5373 - accuracy: 0.7373\n",
      "Epoch 22/50\n",
      "1750/1750 [==============================] - 15s 9ms/step - loss: 0.5369 - accuracy: 0.7374\n",
      "Epoch 23/50\n",
      "1750/1750 [==============================] - 16s 9ms/step - loss: 0.5361 - accuracy: 0.7389\n",
      "Epoch 24/50\n",
      "1750/1750 [==============================] - 15s 8ms/step - loss: 0.5357 - accuracy: 0.7376\n",
      "Epoch 25/50\n",
      "1750/1750 [==============================] - 15s 9ms/step - loss: 0.5354 - accuracy: 0.7389\n",
      "Epoch 26/50\n",
      "1750/1750 [==============================] - 14s 8ms/step - loss: 0.5350 - accuracy: 0.7391\n",
      "Epoch 27/50\n",
      "1750/1750 [==============================] - 14s 8ms/step - loss: 0.5348 - accuracy: 0.7395\n",
      "Epoch 28/50\n",
      "1750/1750 [==============================] - 13s 8ms/step - loss: 0.5337 - accuracy: 0.7403\n",
      "Epoch 29/50\n",
      "1750/1750 [==============================] - 13s 8ms/step - loss: 0.5337 - accuracy: 0.7391\n",
      "Epoch 30/50\n",
      "1750/1750 [==============================] - 13s 8ms/step - loss: 0.5336 - accuracy: 0.7400\n",
      "Epoch 31/50\n",
      "1750/1750 [==============================] - 13s 8ms/step - loss: 0.5322 - accuracy: 0.7405\n",
      "Epoch 32/50\n",
      "1750/1750 [==============================] - 13s 8ms/step - loss: 0.5326 - accuracy: 0.7396\n",
      "Epoch 33/50\n",
      "1750/1750 [==============================] - 13s 8ms/step - loss: 0.5317 - accuracy: 0.7404\n",
      "Epoch 34/50\n",
      "1750/1750 [==============================] - 13s 8ms/step - loss: 0.5313 - accuracy: 0.7397\n",
      "Epoch 35/50\n",
      "1750/1750 [==============================] - 14s 8ms/step - loss: 0.5313 - accuracy: 0.7411\n",
      "Epoch 36/50\n",
      "1750/1750 [==============================] - 14s 8ms/step - loss: 0.5301 - accuracy: 0.7409\n",
      "Epoch 37/50\n",
      "1750/1750 [==============================] - 13s 8ms/step - loss: 0.5301 - accuracy: 0.7394\n",
      "Epoch 38/50\n",
      "1750/1750 [==============================] - 13s 8ms/step - loss: 0.5297 - accuracy: 0.7412\n",
      "Epoch 39/50\n",
      "1750/1750 [==============================] - 13s 8ms/step - loss: 0.5283 - accuracy: 0.7412\n",
      "Epoch 40/50\n",
      "1750/1750 [==============================] - 13s 8ms/step - loss: 0.5289 - accuracy: 0.7416\n",
      "Epoch 41/50\n",
      "1750/1750 [==============================] - 13s 8ms/step - loss: 0.5282 - accuracy: 0.7408\n",
      "Epoch 42/50\n",
      "1750/1750 [==============================] - 13s 8ms/step - loss: 0.5272 - accuracy: 0.7433\n",
      "Epoch 43/50\n",
      "1750/1750 [==============================] - 13s 8ms/step - loss: 0.5264 - accuracy: 0.7432\n",
      "Epoch 44/50\n",
      "1750/1750 [==============================] - 11s 6ms/step - loss: 0.5261 - accuracy: 0.7434\n",
      "Epoch 45/50\n",
      "1750/1750 [==============================] - 11s 6ms/step - loss: 0.5257 - accuracy: 0.7438\n",
      "Epoch 46/50\n",
      "1750/1750 [==============================] - 11s 6ms/step - loss: 0.5261 - accuracy: 0.7439\n",
      "Epoch 47/50\n",
      "1750/1750 [==============================] - 11s 7ms/step - loss: 0.5258 - accuracy: 0.7436\n",
      "Epoch 48/50\n",
      "1750/1750 [==============================] - 12s 7ms/step - loss: 0.5240 - accuracy: 0.7449\n",
      "Epoch 49/50\n",
      "1750/1750 [==============================] - 12s 7ms/step - loss: 0.5252 - accuracy: 0.7461\n",
      "Epoch 50/50\n",
      "1750/1750 [==============================] - 12s 7ms/step - loss: 0.5276 - accuracy: 0.7446\n"
     ]
    }
   ],
   "source": [
    "epochs_hist = classifier.fit(X_train, y_train, epochs = 50)"
   ]
  },
  {
   "cell_type": "markdown",
   "id": "880a0443-a8e5-4274-9171-21d5a88ced68",
   "metadata": {},
   "source": [
    "### Use of the XGBClassifier model\n",
    "This model uses decision trees as base estimators and uses boosting techniques to gradually improve model performance at each iteration."
   ]
  },
  {
   "cell_type": "code",
   "execution_count": 14,
   "id": "6daf29a8-d44e-45d8-bdee-17c58b840ff9",
   "metadata": {
    "tags": []
   },
   "outputs": [],
   "source": [
    "model = XGBClassifier()"
   ]
  },
  {
   "cell_type": "markdown",
   "id": "d6008057-b35b-44f9-bd4c-c56a33abad7a",
   "metadata": {},
   "source": [
    "### Training the model"
   ]
  },
  {
   "cell_type": "code",
   "execution_count": 15,
   "id": "c828c66a-4e0e-4be8-826e-ab2c0cc83e85",
   "metadata": {
    "tags": []
   },
   "outputs": [
    {
     "data": {
      "text/html": [
       "<style>#sk-container-id-1 {color: black;}#sk-container-id-1 pre{padding: 0;}#sk-container-id-1 div.sk-toggleable {background-color: white;}#sk-container-id-1 label.sk-toggleable__label {cursor: pointer;display: block;width: 100%;margin-bottom: 0;padding: 0.3em;box-sizing: border-box;text-align: center;}#sk-container-id-1 label.sk-toggleable__label-arrow:before {content: \"▸\";float: left;margin-right: 0.25em;color: #696969;}#sk-container-id-1 label.sk-toggleable__label-arrow:hover:before {color: black;}#sk-container-id-1 div.sk-estimator:hover label.sk-toggleable__label-arrow:before {color: black;}#sk-container-id-1 div.sk-toggleable__content {max-height: 0;max-width: 0;overflow: hidden;text-align: left;background-color: #f0f8ff;}#sk-container-id-1 div.sk-toggleable__content pre {margin: 0.2em;color: black;border-radius: 0.25em;background-color: #f0f8ff;}#sk-container-id-1 input.sk-toggleable__control:checked~div.sk-toggleable__content {max-height: 200px;max-width: 100%;overflow: auto;}#sk-container-id-1 input.sk-toggleable__control:checked~label.sk-toggleable__label-arrow:before {content: \"▾\";}#sk-container-id-1 div.sk-estimator input.sk-toggleable__control:checked~label.sk-toggleable__label {background-color: #d4ebff;}#sk-container-id-1 div.sk-label input.sk-toggleable__control:checked~label.sk-toggleable__label {background-color: #d4ebff;}#sk-container-id-1 input.sk-hidden--visually {border: 0;clip: rect(1px 1px 1px 1px);clip: rect(1px, 1px, 1px, 1px);height: 1px;margin: -1px;overflow: hidden;padding: 0;position: absolute;width: 1px;}#sk-container-id-1 div.sk-estimator {font-family: monospace;background-color: #f0f8ff;border: 1px dotted black;border-radius: 0.25em;box-sizing: border-box;margin-bottom: 0.5em;}#sk-container-id-1 div.sk-estimator:hover {background-color: #d4ebff;}#sk-container-id-1 div.sk-parallel-item::after {content: \"\";width: 100%;border-bottom: 1px solid gray;flex-grow: 1;}#sk-container-id-1 div.sk-label:hover label.sk-toggleable__label {background-color: #d4ebff;}#sk-container-id-1 div.sk-serial::before {content: \"\";position: absolute;border-left: 1px solid gray;box-sizing: border-box;top: 0;bottom: 0;left: 50%;z-index: 0;}#sk-container-id-1 div.sk-serial {display: flex;flex-direction: column;align-items: center;background-color: white;padding-right: 0.2em;padding-left: 0.2em;position: relative;}#sk-container-id-1 div.sk-item {position: relative;z-index: 1;}#sk-container-id-1 div.sk-parallel {display: flex;align-items: stretch;justify-content: center;background-color: white;position: relative;}#sk-container-id-1 div.sk-item::before, #sk-container-id-1 div.sk-parallel-item::before {content: \"\";position: absolute;border-left: 1px solid gray;box-sizing: border-box;top: 0;bottom: 0;left: 50%;z-index: -1;}#sk-container-id-1 div.sk-parallel-item {display: flex;flex-direction: column;z-index: 1;position: relative;background-color: white;}#sk-container-id-1 div.sk-parallel-item:first-child::after {align-self: flex-end;width: 50%;}#sk-container-id-1 div.sk-parallel-item:last-child::after {align-self: flex-start;width: 50%;}#sk-container-id-1 div.sk-parallel-item:only-child::after {width: 0;}#sk-container-id-1 div.sk-dashed-wrapped {border: 1px dashed gray;margin: 0 0.4em 0.5em 0.4em;box-sizing: border-box;padding-bottom: 0.4em;background-color: white;}#sk-container-id-1 div.sk-label label {font-family: monospace;font-weight: bold;display: inline-block;line-height: 1.2em;}#sk-container-id-1 div.sk-label-container {text-align: center;}#sk-container-id-1 div.sk-container {/* jupyter's `normalize.less` sets `[hidden] { display: none; }` but bootstrap.min.css set `[hidden] { display: none !important; }` so we also need the `!important` here to be able to override the default hidden behavior on the sphinx rendered scikit-learn.org. See: https://github.com/scikit-learn/scikit-learn/issues/21755 */display: inline-block !important;position: relative;}#sk-container-id-1 div.sk-text-repr-fallback {display: none;}</style><div id=\"sk-container-id-1\" class=\"sk-top-container\"><div class=\"sk-text-repr-fallback\"><pre>XGBClassifier(base_score=None, booster=None, callbacks=None,\n",
       "              colsample_bylevel=None, colsample_bynode=None,\n",
       "              colsample_bytree=None, device=None, early_stopping_rounds=None,\n",
       "              enable_categorical=False, eval_metric=None, feature_types=None,\n",
       "              gamma=None, grow_policy=None, importance_type=None,\n",
       "              interaction_constraints=None, learning_rate=None, max_bin=None,\n",
       "              max_cat_threshold=None, max_cat_to_onehot=None,\n",
       "              max_delta_step=None, max_depth=None, max_leaves=None,\n",
       "              min_child_weight=None, missing=nan, monotone_constraints=None,\n",
       "              multi_strategy=None, n_estimators=None, n_jobs=None,\n",
       "              num_parallel_tree=None, random_state=None, ...)</pre><b>In a Jupyter environment, please rerun this cell to show the HTML representation or trust the notebook. <br />On GitHub, the HTML representation is unable to render, please try loading this page with nbviewer.org.</b></div><div class=\"sk-container\" hidden><div class=\"sk-item\"><div class=\"sk-estimator sk-toggleable\"><input class=\"sk-toggleable__control sk-hidden--visually\" id=\"sk-estimator-id-1\" type=\"checkbox\" checked><label for=\"sk-estimator-id-1\" class=\"sk-toggleable__label sk-toggleable__label-arrow\">XGBClassifier</label><div class=\"sk-toggleable__content\"><pre>XGBClassifier(base_score=None, booster=None, callbacks=None,\n",
       "              colsample_bylevel=None, colsample_bynode=None,\n",
       "              colsample_bytree=None, device=None, early_stopping_rounds=None,\n",
       "              enable_categorical=False, eval_metric=None, feature_types=None,\n",
       "              gamma=None, grow_policy=None, importance_type=None,\n",
       "              interaction_constraints=None, learning_rate=None, max_bin=None,\n",
       "              max_cat_threshold=None, max_cat_to_onehot=None,\n",
       "              max_delta_step=None, max_depth=None, max_leaves=None,\n",
       "              min_child_weight=None, missing=nan, monotone_constraints=None,\n",
       "              multi_strategy=None, n_estimators=None, n_jobs=None,\n",
       "              num_parallel_tree=None, random_state=None, ...)</pre></div></div></div></div></div>"
      ],
      "text/plain": [
       "XGBClassifier(base_score=None, booster=None, callbacks=None,\n",
       "              colsample_bylevel=None, colsample_bynode=None,\n",
       "              colsample_bytree=None, device=None, early_stopping_rounds=None,\n",
       "              enable_categorical=False, eval_metric=None, feature_types=None,\n",
       "              gamma=None, grow_policy=None, importance_type=None,\n",
       "              interaction_constraints=None, learning_rate=None, max_bin=None,\n",
       "              max_cat_threshold=None, max_cat_to_onehot=None,\n",
       "              max_delta_step=None, max_depth=None, max_leaves=None,\n",
       "              min_child_weight=None, missing=nan, monotone_constraints=None,\n",
       "              multi_strategy=None, n_estimators=None, n_jobs=None,\n",
       "              num_parallel_tree=None, random_state=None, ...)"
      ]
     },
     "execution_count": 15,
     "metadata": {},
     "output_type": "execute_result"
    }
   ],
   "source": [
    "model.fit(X_train, y_train)"
   ]
  },
  {
   "cell_type": "markdown",
   "id": "dd73f3c0-df2b-4644-9c89-086e08168ce8",
   "metadata": {},
   "source": [
    "### Prediction with test data"
   ]
  },
  {
   "cell_type": "code",
   "execution_count": 16,
   "id": "a5c65260-dce5-4f1f-98e9-b1cf031ef8fd",
   "metadata": {
    "tags": []
   },
   "outputs": [],
   "source": [
    "predict = model.predict(X_test)"
   ]
  },
  {
   "cell_type": "markdown",
   "id": "b3d66719-1eca-4bbf-a12c-de06424ce2c7",
   "metadata": {},
   "source": [
    "### Report on the predictions"
   ]
  },
  {
   "cell_type": "code",
   "execution_count": 17,
   "id": "6256a51c-2e5e-4426-a350-34e4e645e627",
   "metadata": {
    "tags": []
   },
   "outputs": [
    {
     "name": "stdout",
     "output_type": "stream",
     "text": [
      "              precision    recall  f1-score   support\n",
      "\n",
      "           0       0.72      0.78      0.75      6999\n",
      "           1       0.76      0.69      0.72      7001\n",
      "\n",
      "    accuracy                           0.73     14000\n",
      "   macro avg       0.74      0.73      0.73     14000\n",
      "weighted avg       0.74      0.73      0.73     14000\n",
      "\n"
     ]
    }
   ],
   "source": [
    "print(classification_report(y_test, predict))"
   ]
  },
  {
   "cell_type": "markdown",
   "id": "5b40c03a-fcd1-41ba-b4fa-5f514749a7d2",
   "metadata": {},
   "source": [
    "### Logistic Regression"
   ]
  },
  {
   "cell_type": "code",
   "execution_count": 18,
   "id": "7139b91a-3b84-44c4-9518-4c88a0cc1eba",
   "metadata": {
    "tags": []
   },
   "outputs": [],
   "source": [
    "model = LogisticRegression()"
   ]
  },
  {
   "cell_type": "code",
   "execution_count": 19,
   "id": "bd4f4806-35fd-4866-8db8-39c22df9c764",
   "metadata": {},
   "outputs": [
    {
     "data": {
      "text/html": [
       "<style>#sk-container-id-2 {color: black;}#sk-container-id-2 pre{padding: 0;}#sk-container-id-2 div.sk-toggleable {background-color: white;}#sk-container-id-2 label.sk-toggleable__label {cursor: pointer;display: block;width: 100%;margin-bottom: 0;padding: 0.3em;box-sizing: border-box;text-align: center;}#sk-container-id-2 label.sk-toggleable__label-arrow:before {content: \"▸\";float: left;margin-right: 0.25em;color: #696969;}#sk-container-id-2 label.sk-toggleable__label-arrow:hover:before {color: black;}#sk-container-id-2 div.sk-estimator:hover label.sk-toggleable__label-arrow:before {color: black;}#sk-container-id-2 div.sk-toggleable__content {max-height: 0;max-width: 0;overflow: hidden;text-align: left;background-color: #f0f8ff;}#sk-container-id-2 div.sk-toggleable__content pre {margin: 0.2em;color: black;border-radius: 0.25em;background-color: #f0f8ff;}#sk-container-id-2 input.sk-toggleable__control:checked~div.sk-toggleable__content {max-height: 200px;max-width: 100%;overflow: auto;}#sk-container-id-2 input.sk-toggleable__control:checked~label.sk-toggleable__label-arrow:before {content: \"▾\";}#sk-container-id-2 div.sk-estimator input.sk-toggleable__control:checked~label.sk-toggleable__label {background-color: #d4ebff;}#sk-container-id-2 div.sk-label input.sk-toggleable__control:checked~label.sk-toggleable__label {background-color: #d4ebff;}#sk-container-id-2 input.sk-hidden--visually {border: 0;clip: rect(1px 1px 1px 1px);clip: rect(1px, 1px, 1px, 1px);height: 1px;margin: -1px;overflow: hidden;padding: 0;position: absolute;width: 1px;}#sk-container-id-2 div.sk-estimator {font-family: monospace;background-color: #f0f8ff;border: 1px dotted black;border-radius: 0.25em;box-sizing: border-box;margin-bottom: 0.5em;}#sk-container-id-2 div.sk-estimator:hover {background-color: #d4ebff;}#sk-container-id-2 div.sk-parallel-item::after {content: \"\";width: 100%;border-bottom: 1px solid gray;flex-grow: 1;}#sk-container-id-2 div.sk-label:hover label.sk-toggleable__label {background-color: #d4ebff;}#sk-container-id-2 div.sk-serial::before {content: \"\";position: absolute;border-left: 1px solid gray;box-sizing: border-box;top: 0;bottom: 0;left: 50%;z-index: 0;}#sk-container-id-2 div.sk-serial {display: flex;flex-direction: column;align-items: center;background-color: white;padding-right: 0.2em;padding-left: 0.2em;position: relative;}#sk-container-id-2 div.sk-item {position: relative;z-index: 1;}#sk-container-id-2 div.sk-parallel {display: flex;align-items: stretch;justify-content: center;background-color: white;position: relative;}#sk-container-id-2 div.sk-item::before, #sk-container-id-2 div.sk-parallel-item::before {content: \"\";position: absolute;border-left: 1px solid gray;box-sizing: border-box;top: 0;bottom: 0;left: 50%;z-index: -1;}#sk-container-id-2 div.sk-parallel-item {display: flex;flex-direction: column;z-index: 1;position: relative;background-color: white;}#sk-container-id-2 div.sk-parallel-item:first-child::after {align-self: flex-end;width: 50%;}#sk-container-id-2 div.sk-parallel-item:last-child::after {align-self: flex-start;width: 50%;}#sk-container-id-2 div.sk-parallel-item:only-child::after {width: 0;}#sk-container-id-2 div.sk-dashed-wrapped {border: 1px dashed gray;margin: 0 0.4em 0.5em 0.4em;box-sizing: border-box;padding-bottom: 0.4em;background-color: white;}#sk-container-id-2 div.sk-label label {font-family: monospace;font-weight: bold;display: inline-block;line-height: 1.2em;}#sk-container-id-2 div.sk-label-container {text-align: center;}#sk-container-id-2 div.sk-container {/* jupyter's `normalize.less` sets `[hidden] { display: none; }` but bootstrap.min.css set `[hidden] { display: none !important; }` so we also need the `!important` here to be able to override the default hidden behavior on the sphinx rendered scikit-learn.org. See: https://github.com/scikit-learn/scikit-learn/issues/21755 */display: inline-block !important;position: relative;}#sk-container-id-2 div.sk-text-repr-fallback {display: none;}</style><div id=\"sk-container-id-2\" class=\"sk-top-container\"><div class=\"sk-text-repr-fallback\"><pre>LogisticRegression()</pre><b>In a Jupyter environment, please rerun this cell to show the HTML representation or trust the notebook. <br />On GitHub, the HTML representation is unable to render, please try loading this page with nbviewer.org.</b></div><div class=\"sk-container\" hidden><div class=\"sk-item\"><div class=\"sk-estimator sk-toggleable\"><input class=\"sk-toggleable__control sk-hidden--visually\" id=\"sk-estimator-id-2\" type=\"checkbox\" checked><label for=\"sk-estimator-id-2\" class=\"sk-toggleable__label sk-toggleable__label-arrow\">LogisticRegression</label><div class=\"sk-toggleable__content\"><pre>LogisticRegression()</pre></div></div></div></div></div>"
      ],
      "text/plain": [
       "LogisticRegression()"
      ]
     },
     "execution_count": 19,
     "metadata": {},
     "output_type": "execute_result"
    }
   ],
   "source": [
    "model.fit(X_train, y_train)"
   ]
  },
  {
   "cell_type": "code",
   "execution_count": 20,
   "id": "cd974006-a7d4-45ce-8a63-bfce68510853",
   "metadata": {},
   "outputs": [],
   "source": [
    "prediction_on_test_data = model.predict(X_test)"
   ]
  },
  {
   "cell_type": "code",
   "execution_count": 21,
   "id": "a9fdae7e-bf4a-472d-87f5-6c79c8f7b5aa",
   "metadata": {},
   "outputs": [
    {
     "name": "stdout",
     "output_type": "stream",
     "text": [
      "              precision    recall  f1-score   support\n",
      "\n",
      "           0       0.71      0.78      0.74      6999\n",
      "           1       0.76      0.68      0.72      7001\n",
      "\n",
      "    accuracy                           0.73     14000\n",
      "   macro avg       0.73      0.73      0.73     14000\n",
      "weighted avg       0.73      0.73      0.73     14000\n",
      "\n"
     ]
    }
   ],
   "source": [
    "print(classification_report(y_test, prediction_on_test_data))"
   ]
  },
  {
   "cell_type": "markdown",
   "id": "988bb9ae-9b3a-4035-933e-96908e0546af",
   "metadata": {},
   "source": [
    "### svm (SVC)"
   ]
  },
  {
   "cell_type": "code",
   "execution_count": 22,
   "id": "cd4b5733-6661-4cf0-b1d1-7e689caecd00",
   "metadata": {
    "tags": []
   },
   "outputs": [],
   "source": [
    "model = svm.SVC(kernel='linear')"
   ]
  },
  {
   "cell_type": "code",
   "execution_count": 23,
   "id": "680a133d-1d03-4025-ab4a-255903983547",
   "metadata": {},
   "outputs": [
    {
     "data": {
      "text/html": [
       "<style>#sk-container-id-3 {color: black;}#sk-container-id-3 pre{padding: 0;}#sk-container-id-3 div.sk-toggleable {background-color: white;}#sk-container-id-3 label.sk-toggleable__label {cursor: pointer;display: block;width: 100%;margin-bottom: 0;padding: 0.3em;box-sizing: border-box;text-align: center;}#sk-container-id-3 label.sk-toggleable__label-arrow:before {content: \"▸\";float: left;margin-right: 0.25em;color: #696969;}#sk-container-id-3 label.sk-toggleable__label-arrow:hover:before {color: black;}#sk-container-id-3 div.sk-estimator:hover label.sk-toggleable__label-arrow:before {color: black;}#sk-container-id-3 div.sk-toggleable__content {max-height: 0;max-width: 0;overflow: hidden;text-align: left;background-color: #f0f8ff;}#sk-container-id-3 div.sk-toggleable__content pre {margin: 0.2em;color: black;border-radius: 0.25em;background-color: #f0f8ff;}#sk-container-id-3 input.sk-toggleable__control:checked~div.sk-toggleable__content {max-height: 200px;max-width: 100%;overflow: auto;}#sk-container-id-3 input.sk-toggleable__control:checked~label.sk-toggleable__label-arrow:before {content: \"▾\";}#sk-container-id-3 div.sk-estimator input.sk-toggleable__control:checked~label.sk-toggleable__label {background-color: #d4ebff;}#sk-container-id-3 div.sk-label input.sk-toggleable__control:checked~label.sk-toggleable__label {background-color: #d4ebff;}#sk-container-id-3 input.sk-hidden--visually {border: 0;clip: rect(1px 1px 1px 1px);clip: rect(1px, 1px, 1px, 1px);height: 1px;margin: -1px;overflow: hidden;padding: 0;position: absolute;width: 1px;}#sk-container-id-3 div.sk-estimator {font-family: monospace;background-color: #f0f8ff;border: 1px dotted black;border-radius: 0.25em;box-sizing: border-box;margin-bottom: 0.5em;}#sk-container-id-3 div.sk-estimator:hover {background-color: #d4ebff;}#sk-container-id-3 div.sk-parallel-item::after {content: \"\";width: 100%;border-bottom: 1px solid gray;flex-grow: 1;}#sk-container-id-3 div.sk-label:hover label.sk-toggleable__label {background-color: #d4ebff;}#sk-container-id-3 div.sk-serial::before {content: \"\";position: absolute;border-left: 1px solid gray;box-sizing: border-box;top: 0;bottom: 0;left: 50%;z-index: 0;}#sk-container-id-3 div.sk-serial {display: flex;flex-direction: column;align-items: center;background-color: white;padding-right: 0.2em;padding-left: 0.2em;position: relative;}#sk-container-id-3 div.sk-item {position: relative;z-index: 1;}#sk-container-id-3 div.sk-parallel {display: flex;align-items: stretch;justify-content: center;background-color: white;position: relative;}#sk-container-id-3 div.sk-item::before, #sk-container-id-3 div.sk-parallel-item::before {content: \"\";position: absolute;border-left: 1px solid gray;box-sizing: border-box;top: 0;bottom: 0;left: 50%;z-index: -1;}#sk-container-id-3 div.sk-parallel-item {display: flex;flex-direction: column;z-index: 1;position: relative;background-color: white;}#sk-container-id-3 div.sk-parallel-item:first-child::after {align-self: flex-end;width: 50%;}#sk-container-id-3 div.sk-parallel-item:last-child::after {align-self: flex-start;width: 50%;}#sk-container-id-3 div.sk-parallel-item:only-child::after {width: 0;}#sk-container-id-3 div.sk-dashed-wrapped {border: 1px dashed gray;margin: 0 0.4em 0.5em 0.4em;box-sizing: border-box;padding-bottom: 0.4em;background-color: white;}#sk-container-id-3 div.sk-label label {font-family: monospace;font-weight: bold;display: inline-block;line-height: 1.2em;}#sk-container-id-3 div.sk-label-container {text-align: center;}#sk-container-id-3 div.sk-container {/* jupyter's `normalize.less` sets `[hidden] { display: none; }` but bootstrap.min.css set `[hidden] { display: none !important; }` so we also need the `!important` here to be able to override the default hidden behavior on the sphinx rendered scikit-learn.org. See: https://github.com/scikit-learn/scikit-learn/issues/21755 */display: inline-block !important;position: relative;}#sk-container-id-3 div.sk-text-repr-fallback {display: none;}</style><div id=\"sk-container-id-3\" class=\"sk-top-container\"><div class=\"sk-text-repr-fallback\"><pre>SVC(kernel=&#x27;linear&#x27;)</pre><b>In a Jupyter environment, please rerun this cell to show the HTML representation or trust the notebook. <br />On GitHub, the HTML representation is unable to render, please try loading this page with nbviewer.org.</b></div><div class=\"sk-container\" hidden><div class=\"sk-item\"><div class=\"sk-estimator sk-toggleable\"><input class=\"sk-toggleable__control sk-hidden--visually\" id=\"sk-estimator-id-3\" type=\"checkbox\" checked><label for=\"sk-estimator-id-3\" class=\"sk-toggleable__label sk-toggleable__label-arrow\">SVC</label><div class=\"sk-toggleable__content\"><pre>SVC(kernel=&#x27;linear&#x27;)</pre></div></div></div></div></div>"
      ],
      "text/plain": [
       "SVC(kernel='linear')"
      ]
     },
     "execution_count": 23,
     "metadata": {},
     "output_type": "execute_result"
    }
   ],
   "source": [
    "model.fit(X_train, y_train)"
   ]
  },
  {
   "cell_type": "code",
   "execution_count": 24,
   "id": "ee38f24d-962f-4c82-983c-aabc897150a0",
   "metadata": {},
   "outputs": [],
   "source": [
    "prediction_on_test_data = model.predict(X_test)"
   ]
  },
  {
   "cell_type": "code",
   "execution_count": 25,
   "id": "d6a42675-81d0-4325-8d89-a4641ac72135",
   "metadata": {},
   "outputs": [
    {
     "name": "stdout",
     "output_type": "stream",
     "text": [
      "              precision    recall  f1-score   support\n",
      "\n",
      "           0       0.69      0.82      0.75      6999\n",
      "           1       0.78      0.64      0.70      7001\n",
      "\n",
      "    accuracy                           0.73     14000\n",
      "   macro avg       0.74      0.73      0.73     14000\n",
      "weighted avg       0.74      0.73      0.73     14000\n",
      "\n"
     ]
    }
   ],
   "source": [
    "print(classification_report(y_test, prediction_on_test_data))"
   ]
  },
  {
   "cell_type": "markdown",
   "id": "7ccdefb0-91e8-41d9-8fee-77985d517db0",
   "metadata": {},
   "source": [
    "### Conclusion\n",
    "The importance of using artificial intelligence models to make predictions is significant, since it allows to prevent problems in advance. Regarding the model, it is crucial that the datasets used are balanced. In this particular case, although the data set did not have many records, they were evenly distributed. In contrast, there are other datasets with many more records but are noticeably unbalanced towards a single label."
   ]
  }
 ],
 "metadata": {
  "kernelspec": {
   "display_name": "Python 3 (ipykernel)",
   "language": "python",
   "name": "python3"
  },
  "language_info": {
   "codemirror_mode": {
    "name": "ipython",
    "version": 3
   },
   "file_extension": ".py",
   "mimetype": "text/x-python",
   "name": "python",
   "nbconvert_exporter": "python",
   "pygments_lexer": "ipython3",
   "version": "3.11.5"
  }
 },
 "nbformat": 4,
 "nbformat_minor": 5
}
